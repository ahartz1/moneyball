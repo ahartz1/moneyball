{
 "cells": [
  {
   "cell_type": "code",
   "execution_count": 1,
   "metadata": {
    "collapsed": true
   },
   "outputs": [],
   "source": [
    "import matplotlib.pyplot as plt\n",
    "import numpy as np\n",
    "import pandas as pd\n",
    "import re\n",
    "%matplotlib inline"
   ]
  },
  {
   "cell_type": "code",
   "execution_count": 2,
   "metadata": {
    "collapsed": false
   },
   "outputs": [],
   "source": [
    "master = pd.read_csv('data/Master.csv', parse_dates=['debut', 'finalGame'])\n",
    "# Currently not caring about pitchers"
   ]
  },
  {
   "cell_type": "code",
   "execution_count": 3,
   "metadata": {
    "collapsed": false
   },
   "outputs": [
    {
     "data": {
      "text/plain": [
       "playerID                object\n",
       "birthYear              float64\n",
       "birthMonth             float64\n",
       "birthDay               float64\n",
       "birthCountry            object\n",
       "birthState              object\n",
       "birthCity               object\n",
       "deathYear              float64\n",
       "deathMonth             float64\n",
       "deathDay               float64\n",
       "deathCountry            object\n",
       "deathState              object\n",
       "deathCity               object\n",
       "nameFirst               object\n",
       "nameLast                object\n",
       "nameGiven               object\n",
       "weight                 float64\n",
       "height                 float64\n",
       "bats                    object\n",
       "throws                  object\n",
       "debut           datetime64[ns]\n",
       "finalGame       datetime64[ns]\n",
       "retroID                 object\n",
       "bbrefID                 object\n",
       "dtype: object"
      ]
     },
     "execution_count": 3,
     "metadata": {},
     "output_type": "execute_result"
    }
   ],
   "source": [
    "master.dtypes"
   ]
  },
  {
   "cell_type": "code",
   "execution_count": 4,
   "metadata": {
    "collapsed": false
   },
   "outputs": [
    {
     "name": "stdout",
     "output_type": "stream",
     "text": [
      "1848\n",
      "11256\n"
     ]
    }
   ],
   "source": [
    "def birth_state_count(state):\n",
    "    print(master[master['birthState'] == state].size)\n",
    "\n",
    "birth_state_count('RI')\n",
    "birth_state_count('FL')"
   ]
  },
  {
   "cell_type": "code",
   "execution_count": 5,
   "metadata": {
    "collapsed": false
   },
   "outputs": [
    {
     "data": {
      "text/html": [
       "<div>\n",
       "<table border=\"1\" class=\"dataframe\">\n",
       "  <thead>\n",
       "    <tr style=\"text-align: right;\">\n",
       "      <th></th>\n",
       "      <th>playerID</th>\n",
       "      <th>nameFirst</th>\n",
       "      <th>nameLast</th>\n",
       "      <th>nameGiven</th>\n",
       "    </tr>\n",
       "  </thead>\n",
       "  <tbody>\n",
       "    <tr>\n",
       "      <th>0</th>\n",
       "      <td>aardsda01</td>\n",
       "      <td>David</td>\n",
       "      <td>Aardsma</td>\n",
       "      <td>David Allan</td>\n",
       "    </tr>\n",
       "    <tr>\n",
       "      <th>1</th>\n",
       "      <td>aaronha01</td>\n",
       "      <td>Hank</td>\n",
       "      <td>Aaron</td>\n",
       "      <td>Henry Louis</td>\n",
       "    </tr>\n",
       "    <tr>\n",
       "      <th>2</th>\n",
       "      <td>aaronto01</td>\n",
       "      <td>Tommie</td>\n",
       "      <td>Aaron</td>\n",
       "      <td>Tommie Lee</td>\n",
       "    </tr>\n",
       "    <tr>\n",
       "      <th>3</th>\n",
       "      <td>aasedo01</td>\n",
       "      <td>Don</td>\n",
       "      <td>Aase</td>\n",
       "      <td>Donald William</td>\n",
       "    </tr>\n",
       "    <tr>\n",
       "      <th>4</th>\n",
       "      <td>abadan01</td>\n",
       "      <td>Andy</td>\n",
       "      <td>Abad</td>\n",
       "      <td>Fausto Andres</td>\n",
       "    </tr>\n",
       "  </tbody>\n",
       "</table>\n",
       "</div>"
      ],
      "text/plain": [
       "    playerID nameFirst nameLast       nameGiven\n",
       "0  aardsda01     David  Aardsma     David Allan\n",
       "1  aaronha01      Hank    Aaron     Henry Louis\n",
       "2  aaronto01    Tommie    Aaron      Tommie Lee\n",
       "3   aasedo01       Don     Aase  Donald William\n",
       "4   abadan01      Andy     Abad   Fausto Andres"
      ]
     },
     "execution_count": 5,
     "metadata": {},
     "output_type": "execute_result"
    }
   ],
   "source": [
    "bbmaster = master[['playerID', 'nameFirst', 'nameLast', 'nameGiven']]\n",
    "bbmaster.head()"
   ]
  },
  {
   "cell_type": "code",
   "execution_count": null,
   "metadata": {
    "collapsed": true
   },
   "outputs": [],
   "source": []
  },
  {
   "cell_type": "code",
   "execution_count": 6,
   "metadata": {
    "collapsed": false
   },
   "outputs": [
    {
     "data": {
      "text/plain": [
       "Index(['playerID', 'yearID', 'stint', 'teamID', 'lgID', 'G', 'AB', 'R', 'H',\n",
       "       '2B', '3B', 'HR', 'RBI', 'SB', 'CS', 'BB', 'SO', 'IBB', 'HBP', 'SH',\n",
       "       'SF', 'GIDP'],\n",
       "      dtype='object')"
      ]
     },
     "execution_count": 6,
     "metadata": {},
     "output_type": "execute_result"
    }
   ],
   "source": [
    "batting = pd.read_csv('data/Batting.csv')\n",
    "batting.columns"
   ]
  },
  {
   "cell_type": "code",
   "execution_count": 7,
   "metadata": {
    "collapsed": false
   },
   "outputs": [
    {
     "data": {
      "text/html": [
       "<div>\n",
       "<table border=\"1\" class=\"dataframe\">\n",
       "  <thead>\n",
       "    <tr style=\"text-align: right;\">\n",
       "      <th></th>\n",
       "      <th>playerID</th>\n",
       "      <th>yearID</th>\n",
       "      <th>stint</th>\n",
       "      <th>teamID</th>\n",
       "      <th>lgID</th>\n",
       "      <th>G</th>\n",
       "      <th>AB</th>\n",
       "      <th>R</th>\n",
       "      <th>H</th>\n",
       "      <th>2B</th>\n",
       "      <th>...</th>\n",
       "      <th>RBI</th>\n",
       "      <th>SB</th>\n",
       "      <th>CS</th>\n",
       "      <th>BB</th>\n",
       "      <th>SO</th>\n",
       "      <th>IBB</th>\n",
       "      <th>HBP</th>\n",
       "      <th>SH</th>\n",
       "      <th>SF</th>\n",
       "      <th>GIDP</th>\n",
       "    </tr>\n",
       "  </thead>\n",
       "  <tbody>\n",
       "    <tr>\n",
       "      <th>0</th>\n",
       "      <td>abercda01</td>\n",
       "      <td>1871</td>\n",
       "      <td>1</td>\n",
       "      <td>TRO</td>\n",
       "      <td>NaN</td>\n",
       "      <td>1</td>\n",
       "      <td>4</td>\n",
       "      <td>0</td>\n",
       "      <td>0</td>\n",
       "      <td>0</td>\n",
       "      <td>...</td>\n",
       "      <td>0</td>\n",
       "      <td>0</td>\n",
       "      <td>0</td>\n",
       "      <td>0</td>\n",
       "      <td>0</td>\n",
       "      <td>NaN</td>\n",
       "      <td>NaN</td>\n",
       "      <td>NaN</td>\n",
       "      <td>NaN</td>\n",
       "      <td>NaN</td>\n",
       "    </tr>\n",
       "    <tr>\n",
       "      <th>1</th>\n",
       "      <td>addybo01</td>\n",
       "      <td>1871</td>\n",
       "      <td>1</td>\n",
       "      <td>RC1</td>\n",
       "      <td>NaN</td>\n",
       "      <td>25</td>\n",
       "      <td>118</td>\n",
       "      <td>30</td>\n",
       "      <td>32</td>\n",
       "      <td>6</td>\n",
       "      <td>...</td>\n",
       "      <td>13</td>\n",
       "      <td>8</td>\n",
       "      <td>1</td>\n",
       "      <td>4</td>\n",
       "      <td>0</td>\n",
       "      <td>NaN</td>\n",
       "      <td>NaN</td>\n",
       "      <td>NaN</td>\n",
       "      <td>NaN</td>\n",
       "      <td>NaN</td>\n",
       "    </tr>\n",
       "    <tr>\n",
       "      <th>2</th>\n",
       "      <td>allisar01</td>\n",
       "      <td>1871</td>\n",
       "      <td>1</td>\n",
       "      <td>CL1</td>\n",
       "      <td>NaN</td>\n",
       "      <td>29</td>\n",
       "      <td>137</td>\n",
       "      <td>28</td>\n",
       "      <td>40</td>\n",
       "      <td>4</td>\n",
       "      <td>...</td>\n",
       "      <td>19</td>\n",
       "      <td>3</td>\n",
       "      <td>1</td>\n",
       "      <td>2</td>\n",
       "      <td>5</td>\n",
       "      <td>NaN</td>\n",
       "      <td>NaN</td>\n",
       "      <td>NaN</td>\n",
       "      <td>NaN</td>\n",
       "      <td>NaN</td>\n",
       "    </tr>\n",
       "    <tr>\n",
       "      <th>3</th>\n",
       "      <td>allisdo01</td>\n",
       "      <td>1871</td>\n",
       "      <td>1</td>\n",
       "      <td>WS3</td>\n",
       "      <td>NaN</td>\n",
       "      <td>27</td>\n",
       "      <td>133</td>\n",
       "      <td>28</td>\n",
       "      <td>44</td>\n",
       "      <td>10</td>\n",
       "      <td>...</td>\n",
       "      <td>27</td>\n",
       "      <td>1</td>\n",
       "      <td>1</td>\n",
       "      <td>0</td>\n",
       "      <td>2</td>\n",
       "      <td>NaN</td>\n",
       "      <td>NaN</td>\n",
       "      <td>NaN</td>\n",
       "      <td>NaN</td>\n",
       "      <td>NaN</td>\n",
       "    </tr>\n",
       "    <tr>\n",
       "      <th>4</th>\n",
       "      <td>ansonca01</td>\n",
       "      <td>1871</td>\n",
       "      <td>1</td>\n",
       "      <td>RC1</td>\n",
       "      <td>NaN</td>\n",
       "      <td>25</td>\n",
       "      <td>120</td>\n",
       "      <td>29</td>\n",
       "      <td>39</td>\n",
       "      <td>11</td>\n",
       "      <td>...</td>\n",
       "      <td>16</td>\n",
       "      <td>6</td>\n",
       "      <td>2</td>\n",
       "      <td>2</td>\n",
       "      <td>1</td>\n",
       "      <td>NaN</td>\n",
       "      <td>NaN</td>\n",
       "      <td>NaN</td>\n",
       "      <td>NaN</td>\n",
       "      <td>NaN</td>\n",
       "    </tr>\n",
       "  </tbody>\n",
       "</table>\n",
       "<p>5 rows × 22 columns</p>\n",
       "</div>"
      ],
      "text/plain": [
       "    playerID  yearID  stint teamID lgID   G   AB   R   H  2B  ...   RBI  SB  \\\n",
       "0  abercda01    1871      1    TRO  NaN   1    4   0   0   0  ...     0   0   \n",
       "1   addybo01    1871      1    RC1  NaN  25  118  30  32   6  ...    13   8   \n",
       "2  allisar01    1871      1    CL1  NaN  29  137  28  40   4  ...    19   3   \n",
       "3  allisdo01    1871      1    WS3  NaN  27  133  28  44  10  ...    27   1   \n",
       "4  ansonca01    1871      1    RC1  NaN  25  120  29  39  11  ...    16   6   \n",
       "\n",
       "   CS  BB  SO  IBB  HBP  SH  SF  GIDP  \n",
       "0   0   0   0  NaN  NaN NaN NaN   NaN  \n",
       "1   1   4   0  NaN  NaN NaN NaN   NaN  \n",
       "2   1   2   5  NaN  NaN NaN NaN   NaN  \n",
       "3   1   0   2  NaN  NaN NaN NaN   NaN  \n",
       "4   2   2   1  NaN  NaN NaN NaN   NaN  \n",
       "\n",
       "[5 rows x 22 columns]"
      ]
     },
     "execution_count": 7,
     "metadata": {},
     "output_type": "execute_result"
    }
   ],
   "source": [
    "batting.head()"
   ]
  },
  {
   "cell_type": "code",
   "execution_count": 8,
   "metadata": {
    "collapsed": true
   },
   "outputs": [],
   "source": [
    "master_batting = pd.merge(master, batting)"
   ]
  },
  {
   "cell_type": "code",
   "execution_count": 9,
   "metadata": {
    "collapsed": false
   },
   "outputs": [
    {
     "data": {
      "text/plain": [
       "Index(['playerID', 'yearID', 'stint', 'teamID', 'lgID', 'G', 'AB', 'R', 'H',\n",
       "       '2B', '3B', 'HR', 'RBI', 'SB', 'CS', 'BB', 'SO', 'IBB', 'HBP', 'SH',\n",
       "       'SF', 'GIDP'],\n",
       "      dtype='object')"
      ]
     },
     "execution_count": 9,
     "metadata": {},
     "output_type": "execute_result"
    }
   ],
   "source": [
    "batting.columns"
   ]
  },
  {
   "cell_type": "code",
   "execution_count": 10,
   "metadata": {
    "collapsed": false
   },
   "outputs": [
    {
     "name": "stdout",
     "output_type": "stream",
     "text": [
      "99846\n"
     ]
    },
    {
     "data": {
      "text/html": [
       "<div>\n",
       "<table border=\"1\" class=\"dataframe\">\n",
       "  <thead>\n",
       "    <tr style=\"text-align: right;\">\n",
       "      <th></th>\n",
       "      <th>playerID</th>\n",
       "      <th>nameFirst</th>\n",
       "      <th>nameLast</th>\n",
       "      <th>nameGiven</th>\n",
       "      <th>yearID</th>\n",
       "      <th>AB</th>\n",
       "      <th>H</th>\n",
       "      <th>BB</th>\n",
       "      <th>HBP</th>\n",
       "      <th>SF</th>\n",
       "    </tr>\n",
       "  </thead>\n",
       "  <tbody>\n",
       "    <tr>\n",
       "      <th>0</th>\n",
       "      <td>aardsda01</td>\n",
       "      <td>David</td>\n",
       "      <td>Aardsma</td>\n",
       "      <td>David Allan</td>\n",
       "      <td>2004</td>\n",
       "      <td>0</td>\n",
       "      <td>0</td>\n",
       "      <td>0</td>\n",
       "      <td>0</td>\n",
       "      <td>0</td>\n",
       "    </tr>\n",
       "    <tr>\n",
       "      <th>1</th>\n",
       "      <td>aardsda01</td>\n",
       "      <td>David</td>\n",
       "      <td>Aardsma</td>\n",
       "      <td>David Allan</td>\n",
       "      <td>2006</td>\n",
       "      <td>2</td>\n",
       "      <td>0</td>\n",
       "      <td>0</td>\n",
       "      <td>0</td>\n",
       "      <td>0</td>\n",
       "    </tr>\n",
       "    <tr>\n",
       "      <th>2</th>\n",
       "      <td>aardsda01</td>\n",
       "      <td>David</td>\n",
       "      <td>Aardsma</td>\n",
       "      <td>David Allan</td>\n",
       "      <td>2007</td>\n",
       "      <td>0</td>\n",
       "      <td>0</td>\n",
       "      <td>0</td>\n",
       "      <td>0</td>\n",
       "      <td>0</td>\n",
       "    </tr>\n",
       "    <tr>\n",
       "      <th>3</th>\n",
       "      <td>aardsda01</td>\n",
       "      <td>David</td>\n",
       "      <td>Aardsma</td>\n",
       "      <td>David Allan</td>\n",
       "      <td>2008</td>\n",
       "      <td>1</td>\n",
       "      <td>0</td>\n",
       "      <td>0</td>\n",
       "      <td>0</td>\n",
       "      <td>0</td>\n",
       "    </tr>\n",
       "    <tr>\n",
       "      <th>4</th>\n",
       "      <td>aardsda01</td>\n",
       "      <td>David</td>\n",
       "      <td>Aardsma</td>\n",
       "      <td>David Allan</td>\n",
       "      <td>2009</td>\n",
       "      <td>0</td>\n",
       "      <td>0</td>\n",
       "      <td>0</td>\n",
       "      <td>0</td>\n",
       "      <td>0</td>\n",
       "    </tr>\n",
       "  </tbody>\n",
       "</table>\n",
       "</div>"
      ],
      "text/plain": [
       "    playerID nameFirst nameLast    nameGiven  yearID  AB  H  BB  HBP  SF\n",
       "0  aardsda01     David  Aardsma  David Allan    2004   0  0   0    0   0\n",
       "1  aardsda01     David  Aardsma  David Allan    2006   2  0   0    0   0\n",
       "2  aardsda01     David  Aardsma  David Allan    2007   0  0   0    0   0\n",
       "3  aardsda01     David  Aardsma  David Allan    2008   1  0   0    0   0\n",
       "4  aardsda01     David  Aardsma  David Allan    2009   0  0   0    0   0"
      ]
     },
     "execution_count": 10,
     "metadata": {},
     "output_type": "execute_result"
    }
   ],
   "source": [
    "bats = batting[['playerID', 'yearID','AB', 'H', 'BB', 'HBP', 'SF']]\n",
    "bats.head()\n",
    "print(len(bats))\n",
    "bbdata2 = pd.merge(bbmaster, bats)\n",
    "bbdata2.head()"
   ]
  },
  {
   "cell_type": "code",
   "execution_count": 11,
   "metadata": {
    "collapsed": false
   },
   "outputs": [
    {
     "data": {
      "text/plain": [
       "Index(['yearID', 'teamID', 'lgID', 'playerID', 'salary'], dtype='object')"
      ]
     },
     "execution_count": 11,
     "metadata": {},
     "output_type": "execute_result"
    }
   ],
   "source": [
    "salaries = pd.read_csv('data/Salaries.csv')\n",
    "salaries.columns"
   ]
  },
  {
   "cell_type": "code",
   "execution_count": 12,
   "metadata": {
    "collapsed": false
   },
   "outputs": [
    {
     "name": "stdout",
     "output_type": "stream",
     "text": [
      "24758\n"
     ]
    },
    {
     "data": {
      "text/html": [
       "<div>\n",
       "<table border=\"1\" class=\"dataframe\">\n",
       "  <thead>\n",
       "    <tr style=\"text-align: right;\">\n",
       "      <th></th>\n",
       "      <th>yearID</th>\n",
       "      <th>playerID</th>\n",
       "      <th>salary</th>\n",
       "    </tr>\n",
       "  </thead>\n",
       "  <tbody>\n",
       "    <tr>\n",
       "      <th>0</th>\n",
       "      <td>1985</td>\n",
       "      <td>barkele01</td>\n",
       "      <td>870000</td>\n",
       "    </tr>\n",
       "    <tr>\n",
       "      <th>1</th>\n",
       "      <td>1985</td>\n",
       "      <td>bedrost01</td>\n",
       "      <td>550000</td>\n",
       "    </tr>\n",
       "    <tr>\n",
       "      <th>2</th>\n",
       "      <td>1985</td>\n",
       "      <td>benedbr01</td>\n",
       "      <td>545000</td>\n",
       "    </tr>\n",
       "    <tr>\n",
       "      <th>3</th>\n",
       "      <td>1985</td>\n",
       "      <td>campri01</td>\n",
       "      <td>633333</td>\n",
       "    </tr>\n",
       "    <tr>\n",
       "      <th>4</th>\n",
       "      <td>1985</td>\n",
       "      <td>ceronri01</td>\n",
       "      <td>625000</td>\n",
       "    </tr>\n",
       "  </tbody>\n",
       "</table>\n",
       "</div>"
      ],
      "text/plain": [
       "   yearID   playerID  salary\n",
       "0    1985  barkele01  870000\n",
       "1    1985  bedrost01  550000\n",
       "2    1985  benedbr01  545000\n",
       "3    1985   campri01  633333\n",
       "4    1985  ceronri01  625000"
      ]
     },
     "execution_count": 12,
     "metadata": {},
     "output_type": "execute_result"
    }
   ],
   "source": [
    "salaries = salaries[['yearID', 'playerID', 'salary']]\n",
    "print(len(salaries))\n",
    "salaries.head()"
   ]
  },
  {
   "cell_type": "code",
   "execution_count": 13,
   "metadata": {
    "collapsed": false
   },
   "outputs": [
    {
     "name": "stdout",
     "output_type": "stream",
     "text": [
      "26470\n"
     ]
    },
    {
     "data": {
      "text/html": [
       "<div>\n",
       "<table border=\"1\" class=\"dataframe\">\n",
       "  <thead>\n",
       "    <tr style=\"text-align: right;\">\n",
       "      <th></th>\n",
       "      <th>playerID</th>\n",
       "      <th>nameFirst</th>\n",
       "      <th>nameLast</th>\n",
       "      <th>nameGiven</th>\n",
       "      <th>yearID</th>\n",
       "      <th>AB</th>\n",
       "      <th>H</th>\n",
       "      <th>BB</th>\n",
       "      <th>HBP</th>\n",
       "      <th>SF</th>\n",
       "      <th>salary</th>\n",
       "    </tr>\n",
       "  </thead>\n",
       "  <tbody>\n",
       "    <tr>\n",
       "      <th>0</th>\n",
       "      <td>aardsda01</td>\n",
       "      <td>David</td>\n",
       "      <td>Aardsma</td>\n",
       "      <td>David Allan</td>\n",
       "      <td>2004</td>\n",
       "      <td>0</td>\n",
       "      <td>0</td>\n",
       "      <td>0</td>\n",
       "      <td>0</td>\n",
       "      <td>0</td>\n",
       "      <td>300000</td>\n",
       "    </tr>\n",
       "    <tr>\n",
       "      <th>1</th>\n",
       "      <td>aardsda01</td>\n",
       "      <td>David</td>\n",
       "      <td>Aardsma</td>\n",
       "      <td>David Allan</td>\n",
       "      <td>2007</td>\n",
       "      <td>0</td>\n",
       "      <td>0</td>\n",
       "      <td>0</td>\n",
       "      <td>0</td>\n",
       "      <td>0</td>\n",
       "      <td>387500</td>\n",
       "    </tr>\n",
       "    <tr>\n",
       "      <th>2</th>\n",
       "      <td>aardsda01</td>\n",
       "      <td>David</td>\n",
       "      <td>Aardsma</td>\n",
       "      <td>David Allan</td>\n",
       "      <td>2008</td>\n",
       "      <td>1</td>\n",
       "      <td>0</td>\n",
       "      <td>0</td>\n",
       "      <td>0</td>\n",
       "      <td>0</td>\n",
       "      <td>403250</td>\n",
       "    </tr>\n",
       "    <tr>\n",
       "      <th>3</th>\n",
       "      <td>aardsda01</td>\n",
       "      <td>David</td>\n",
       "      <td>Aardsma</td>\n",
       "      <td>David Allan</td>\n",
       "      <td>2009</td>\n",
       "      <td>0</td>\n",
       "      <td>0</td>\n",
       "      <td>0</td>\n",
       "      <td>0</td>\n",
       "      <td>0</td>\n",
       "      <td>419000</td>\n",
       "    </tr>\n",
       "    <tr>\n",
       "      <th>4</th>\n",
       "      <td>aardsda01</td>\n",
       "      <td>David</td>\n",
       "      <td>Aardsma</td>\n",
       "      <td>David Allan</td>\n",
       "      <td>2010</td>\n",
       "      <td>0</td>\n",
       "      <td>0</td>\n",
       "      <td>0</td>\n",
       "      <td>0</td>\n",
       "      <td>0</td>\n",
       "      <td>2750000</td>\n",
       "    </tr>\n",
       "  </tbody>\n",
       "</table>\n",
       "</div>"
      ],
      "text/plain": [
       "    playerID nameFirst nameLast    nameGiven  yearID  AB  H  BB  HBP  SF  \\\n",
       "0  aardsda01     David  Aardsma  David Allan    2004   0  0   0    0   0   \n",
       "1  aardsda01     David  Aardsma  David Allan    2007   0  0   0    0   0   \n",
       "2  aardsda01     David  Aardsma  David Allan    2008   1  0   0    0   0   \n",
       "3  aardsda01     David  Aardsma  David Allan    2009   0  0   0    0   0   \n",
       "4  aardsda01     David  Aardsma  David Allan    2010   0  0   0    0   0   \n",
       "\n",
       "    salary  \n",
       "0   300000  \n",
       "1   387500  \n",
       "2   403250  \n",
       "3   419000  \n",
       "4  2750000  "
      ]
     },
     "execution_count": 13,
     "metadata": {},
     "output_type": "execute_result"
    }
   ],
   "source": [
    "bbdata_sal = pd.merge(bbdata2, salaries)\n",
    "print(len(bbdata_sal))\n",
    "bbdata_sal.head()"
   ]
  },
  {
   "cell_type": "code",
   "execution_count": 14,
   "metadata": {
    "collapsed": false
   },
   "outputs": [],
   "source": [
    "# Drop all AB values of 0 or null\n",
    "bbdata_sal = bbdata_sal.drop(bbdata_sal.index[(bbdata_sal['AB'] < 15) | (pd.isnull(bbdata_sal['AB']))])"
   ]
  },
  {
   "cell_type": "code",
   "execution_count": 15,
   "metadata": {
    "collapsed": false
   },
   "outputs": [],
   "source": [
    "bbdata_sal['OBP'] = bbdata_sal.apply(lambda row: (row['H'] + row['BB'] + row['HBP']) * 100 / \\\n",
    "                                     (row['AB'] + row['BB'] + row['HBP'] + row['SF']), axis=1)"
   ]
  },
  {
   "cell_type": "code",
   "execution_count": 16,
   "metadata": {
    "collapsed": false
   },
   "outputs": [
    {
     "data": {
      "text/html": [
       "<div>\n",
       "<table border=\"1\" class=\"dataframe\">\n",
       "  <thead>\n",
       "    <tr style=\"text-align: right;\">\n",
       "      <th></th>\n",
       "      <th>playerID</th>\n",
       "      <th>nameFirst</th>\n",
       "      <th>nameLast</th>\n",
       "      <th>nameGiven</th>\n",
       "      <th>yearID</th>\n",
       "      <th>AB</th>\n",
       "      <th>H</th>\n",
       "      <th>BB</th>\n",
       "      <th>HBP</th>\n",
       "      <th>SF</th>\n",
       "      <th>salary</th>\n",
       "      <th>OBP</th>\n",
       "    </tr>\n",
       "  </thead>\n",
       "  <tbody>\n",
       "    <tr>\n",
       "      <th>14</th>\n",
       "      <td>abbotje01</td>\n",
       "      <td>Jeff</td>\n",
       "      <td>Abbott</td>\n",
       "      <td>Jeffrey William</td>\n",
       "      <td>1998</td>\n",
       "      <td>244</td>\n",
       "      <td>68</td>\n",
       "      <td>9</td>\n",
       "      <td>0</td>\n",
       "      <td>5</td>\n",
       "      <td>175000</td>\n",
       "      <td>29.844961</td>\n",
       "    </tr>\n",
       "    <tr>\n",
       "      <th>15</th>\n",
       "      <td>abbotje01</td>\n",
       "      <td>Jeff</td>\n",
       "      <td>Abbott</td>\n",
       "      <td>Jeffrey William</td>\n",
       "      <td>1999</td>\n",
       "      <td>57</td>\n",
       "      <td>9</td>\n",
       "      <td>5</td>\n",
       "      <td>0</td>\n",
       "      <td>1</td>\n",
       "      <td>255000</td>\n",
       "      <td>22.222222</td>\n",
       "    </tr>\n",
       "    <tr>\n",
       "      <th>16</th>\n",
       "      <td>abbotje01</td>\n",
       "      <td>Jeff</td>\n",
       "      <td>Abbott</td>\n",
       "      <td>Jeffrey William</td>\n",
       "      <td>2000</td>\n",
       "      <td>215</td>\n",
       "      <td>59</td>\n",
       "      <td>21</td>\n",
       "      <td>2</td>\n",
       "      <td>1</td>\n",
       "      <td>255000</td>\n",
       "      <td>34.309623</td>\n",
       "    </tr>\n",
       "    <tr>\n",
       "      <th>17</th>\n",
       "      <td>abbotje01</td>\n",
       "      <td>Jeff</td>\n",
       "      <td>Abbott</td>\n",
       "      <td>Jeffrey William</td>\n",
       "      <td>2001</td>\n",
       "      <td>42</td>\n",
       "      <td>11</td>\n",
       "      <td>3</td>\n",
       "      <td>1</td>\n",
       "      <td>0</td>\n",
       "      <td>300000</td>\n",
       "      <td>32.608696</td>\n",
       "    </tr>\n",
       "    <tr>\n",
       "      <th>27</th>\n",
       "      <td>abbotji01</td>\n",
       "      <td>Jim</td>\n",
       "      <td>Abbott</td>\n",
       "      <td>James Anthony</td>\n",
       "      <td>1999</td>\n",
       "      <td>21</td>\n",
       "      <td>2</td>\n",
       "      <td>0</td>\n",
       "      <td>0</td>\n",
       "      <td>0</td>\n",
       "      <td>400000</td>\n",
       "      <td>9.523810</td>\n",
       "    </tr>\n",
       "  </tbody>\n",
       "</table>\n",
       "</div>"
      ],
      "text/plain": [
       "     playerID nameFirst nameLast        nameGiven  yearID   AB   H  BB  HBP  \\\n",
       "14  abbotje01      Jeff   Abbott  Jeffrey William    1998  244  68   9    0   \n",
       "15  abbotje01      Jeff   Abbott  Jeffrey William    1999   57   9   5    0   \n",
       "16  abbotje01      Jeff   Abbott  Jeffrey William    2000  215  59  21    2   \n",
       "17  abbotje01      Jeff   Abbott  Jeffrey William    2001   42  11   3    1   \n",
       "27  abbotji01       Jim   Abbott    James Anthony    1999   21   2   0    0   \n",
       "\n",
       "    SF  salary        OBP  \n",
       "14   5  175000  29.844961  \n",
       "15   1  255000  22.222222  \n",
       "16   1  255000  34.309623  \n",
       "17   0  300000  32.608696  \n",
       "27   0  400000   9.523810  "
      ]
     },
     "execution_count": 16,
     "metadata": {},
     "output_type": "execute_result"
    }
   ],
   "source": [
    "bbdata_sal.head()"
   ]
  },
  {
   "cell_type": "code",
   "execution_count": 17,
   "metadata": {
    "collapsed": false
   },
   "outputs": [
    {
     "data": {
      "text/html": [
       "<div>\n",
       "<table border=\"1\" class=\"dataframe\">\n",
       "  <thead>\n",
       "    <tr style=\"text-align: right;\">\n",
       "      <th></th>\n",
       "      <th>playerID</th>\n",
       "      <th>nameFirst</th>\n",
       "      <th>nameLast</th>\n",
       "      <th>nameGiven</th>\n",
       "      <th>yearID</th>\n",
       "      <th>AB</th>\n",
       "      <th>H</th>\n",
       "      <th>BB</th>\n",
       "      <th>HBP</th>\n",
       "      <th>SF</th>\n",
       "      <th>salary</th>\n",
       "      <th>OBP</th>\n",
       "    </tr>\n",
       "  </thead>\n",
       "  <tbody>\n",
       "    <tr>\n",
       "      <th>2367</th>\n",
       "      <td>bondsba01</td>\n",
       "      <td>Barry</td>\n",
       "      <td>Bonds</td>\n",
       "      <td>Barry Lamar</td>\n",
       "      <td>2004</td>\n",
       "      <td>373</td>\n",
       "      <td>135</td>\n",
       "      <td>232</td>\n",
       "      <td>9</td>\n",
       "      <td>3</td>\n",
       "      <td>18000000</td>\n",
       "      <td>60.940032</td>\n",
       "    </tr>\n",
       "    <tr>\n",
       "      <th>2365</th>\n",
       "      <td>bondsba01</td>\n",
       "      <td>Barry</td>\n",
       "      <td>Bonds</td>\n",
       "      <td>Barry Lamar</td>\n",
       "      <td>2002</td>\n",
       "      <td>403</td>\n",
       "      <td>149</td>\n",
       "      <td>198</td>\n",
       "      <td>9</td>\n",
       "      <td>2</td>\n",
       "      <td>15000000</td>\n",
       "      <td>58.169935</td>\n",
       "    </tr>\n",
       "    <tr>\n",
       "      <th>15947</th>\n",
       "      <td>millira01</td>\n",
       "      <td>Randy</td>\n",
       "      <td>Milligan</td>\n",
       "      <td>Randy Andre</td>\n",
       "      <td>1993</td>\n",
       "      <td>47</td>\n",
       "      <td>20</td>\n",
       "      <td>14</td>\n",
       "      <td>0</td>\n",
       "      <td>0</td>\n",
       "      <td>635000</td>\n",
       "      <td>55.737705</td>\n",
       "    </tr>\n",
       "    <tr>\n",
       "      <th>8255</th>\n",
       "      <td>gibbojo02</td>\n",
       "      <td>John</td>\n",
       "      <td>Gibbons</td>\n",
       "      <td>John Michael</td>\n",
       "      <td>1986</td>\n",
       "      <td>19</td>\n",
       "      <td>9</td>\n",
       "      <td>3</td>\n",
       "      <td>0</td>\n",
       "      <td>0</td>\n",
       "      <td>65000</td>\n",
       "      <td>54.545455</td>\n",
       "    </tr>\n",
       "    <tr>\n",
       "      <th>21377</th>\n",
       "      <td>schatda01</td>\n",
       "      <td>Dan</td>\n",
       "      <td>Schatzeder</td>\n",
       "      <td>Daniel Ernest</td>\n",
       "      <td>1986</td>\n",
       "      <td>21</td>\n",
       "      <td>9</td>\n",
       "      <td>5</td>\n",
       "      <td>0</td>\n",
       "      <td>0</td>\n",
       "      <td>415000</td>\n",
       "      <td>53.846154</td>\n",
       "    </tr>\n",
       "  </tbody>\n",
       "</table>\n",
       "</div>"
      ],
      "text/plain": [
       "        playerID nameFirst    nameLast      nameGiven  yearID   AB    H   BB  \\\n",
       "2367   bondsba01     Barry       Bonds    Barry Lamar    2004  373  135  232   \n",
       "2365   bondsba01     Barry       Bonds    Barry Lamar    2002  403  149  198   \n",
       "15947  millira01     Randy    Milligan    Randy Andre    1993   47   20   14   \n",
       "8255   gibbojo02      John     Gibbons   John Michael    1986   19    9    3   \n",
       "21377  schatda01       Dan  Schatzeder  Daniel Ernest    1986   21    9    5   \n",
       "\n",
       "       HBP  SF    salary        OBP  \n",
       "2367     9   3  18000000  60.940032  \n",
       "2365     9   2  15000000  58.169935  \n",
       "15947    0   0    635000  55.737705  \n",
       "8255     0   0     65000  54.545455  \n",
       "21377    0   0    415000  53.846154  "
      ]
     },
     "execution_count": 17,
     "metadata": {},
     "output_type": "execute_result"
    }
   ],
   "source": [
    "bbdata_sal.sort(columns=['OBP'], ascending=False).head()"
   ]
  },
  {
   "cell_type": "code",
   "execution_count": 18,
   "metadata": {
    "collapsed": false
   },
   "outputs": [],
   "source": [
    "bbdata_sal.drop(bbdata_sal.index[bbdata_sal['salary'] <= 0])\n",
    "pass"
   ]
  },
  {
   "cell_type": "code",
   "execution_count": 19,
   "metadata": {
    "collapsed": false
   },
   "outputs": [
    {
     "name": "stdout",
     "output_type": "stream",
     "text": [
      "6.33562286529e-06\n",
      "2.28848821082e-05\n"
     ]
    },
    {
     "data": {
      "text/plain": [
       "playerID        phillbr01\n",
       "nameFirst         Brandon\n",
       "nameLast         Phillips\n",
       "nameGiven    Brandon Emil\n",
       "yearID               2009\n",
       "AB                    584\n",
       "H                     161\n",
       "BB                     44\n",
       "HBP                     6\n",
       "SF                      8\n",
       "salary            5187500\n",
       "OBP              32.86604\n",
       "Name: 18776, dtype: object"
      ]
     },
     "execution_count": 19,
     "metadata": {},
     "output_type": "execute_result"
    }
   ],
   "source": [
    "print(bbdata_sal.iloc[11611]['OBP'] / bbdata_sal.iloc[11611]['salary'])\n",
    "print(bbdata_sal.iloc[2367]['OBP'] / bbdata_sal.iloc[2367]['salary'])\n",
    "bbdata_sal.iloc[11611]"
   ]
  },
  {
   "cell_type": "code",
   "execution_count": 20,
   "metadata": {
    "collapsed": false
   },
   "outputs": [
    {
     "ename": "ZeroDivisionError",
     "evalue": "('float division by zero', 'occurred at index 11611')",
     "output_type": "error",
     "traceback": [
      "\u001b[0;31m---------------------------------------------------------------------------\u001b[0m",
      "\u001b[0;31mZeroDivisionError\u001b[0m                         Traceback (most recent call last)",
      "\u001b[0;32m<ipython-input-20-61746200342a>\u001b[0m in \u001b[0;36m<module>\u001b[0;34m()\u001b[0m\n\u001b[0;32m----> 1\u001b[0;31m \u001b[0mbbdata_sal\u001b[0m\u001b[0;34m[\u001b[0m\u001b[0;34m'OBP_salary_ratio'\u001b[0m\u001b[0;34m]\u001b[0m \u001b[0;34m=\u001b[0m \u001b[0mbbdata_sal\u001b[0m\u001b[0;34m.\u001b[0m\u001b[0mapply\u001b[0m\u001b[0;34m(\u001b[0m\u001b[0;32mlambda\u001b[0m \u001b[0mrow\u001b[0m\u001b[0;34m:\u001b[0m \u001b[0mrow\u001b[0m\u001b[0;34m[\u001b[0m\u001b[0;34m'OBP'\u001b[0m\u001b[0;34m]\u001b[0m \u001b[0;34m/\u001b[0m \u001b[0mrow\u001b[0m\u001b[0;34m[\u001b[0m\u001b[0;34m'salary'\u001b[0m\u001b[0;34m]\u001b[0m\u001b[0;34m,\u001b[0m \u001b[0maxis\u001b[0m\u001b[0;34m=\u001b[0m\u001b[0;36m1\u001b[0m\u001b[0;34m)\u001b[0m\u001b[0;34m\u001b[0m\u001b[0m\n\u001b[0m",
      "\u001b[0;32m/Users/ahartz1/TIY/moneyball/.direnv/python-3.4.3/lib/python3.4/site-packages/pandas/core/frame.py\u001b[0m in \u001b[0;36mapply\u001b[0;34m(self, func, axis, broadcast, raw, reduce, args, **kwds)\u001b[0m\n\u001b[1;32m   3716\u001b[0m                     \u001b[0;32mif\u001b[0m \u001b[0mreduce\u001b[0m \u001b[0;32mis\u001b[0m \u001b[0;32mNone\u001b[0m\u001b[0;34m:\u001b[0m\u001b[0;34m\u001b[0m\u001b[0m\n\u001b[1;32m   3717\u001b[0m                         \u001b[0mreduce\u001b[0m \u001b[0;34m=\u001b[0m \u001b[0;32mTrue\u001b[0m\u001b[0;34m\u001b[0m\u001b[0m\n\u001b[0;32m-> 3718\u001b[0;31m                     \u001b[0;32mreturn\u001b[0m \u001b[0mself\u001b[0m\u001b[0;34m.\u001b[0m\u001b[0m_apply_standard\u001b[0m\u001b[0;34m(\u001b[0m\u001b[0mf\u001b[0m\u001b[0;34m,\u001b[0m \u001b[0maxis\u001b[0m\u001b[0;34m,\u001b[0m \u001b[0mreduce\u001b[0m\u001b[0;34m=\u001b[0m\u001b[0mreduce\u001b[0m\u001b[0;34m)\u001b[0m\u001b[0;34m\u001b[0m\u001b[0m\n\u001b[0m\u001b[1;32m   3719\u001b[0m             \u001b[0;32melse\u001b[0m\u001b[0;34m:\u001b[0m\u001b[0;34m\u001b[0m\u001b[0m\n\u001b[1;32m   3720\u001b[0m                 \u001b[0;32mreturn\u001b[0m \u001b[0mself\u001b[0m\u001b[0;34m.\u001b[0m\u001b[0m_apply_broadcast\u001b[0m\u001b[0;34m(\u001b[0m\u001b[0mf\u001b[0m\u001b[0;34m,\u001b[0m \u001b[0maxis\u001b[0m\u001b[0;34m)\u001b[0m\u001b[0;34m\u001b[0m\u001b[0m\n",
      "\u001b[0;32m/Users/ahartz1/TIY/moneyball/.direnv/python-3.4.3/lib/python3.4/site-packages/pandas/core/frame.py\u001b[0m in \u001b[0;36m_apply_standard\u001b[0;34m(self, func, axis, ignore_failures, reduce)\u001b[0m\n\u001b[1;32m   3806\u001b[0m             \u001b[0;32mtry\u001b[0m\u001b[0;34m:\u001b[0m\u001b[0;34m\u001b[0m\u001b[0m\n\u001b[1;32m   3807\u001b[0m                 \u001b[0;32mfor\u001b[0m \u001b[0mi\u001b[0m\u001b[0;34m,\u001b[0m \u001b[0mv\u001b[0m \u001b[0;32min\u001b[0m \u001b[0menumerate\u001b[0m\u001b[0;34m(\u001b[0m\u001b[0mseries_gen\u001b[0m\u001b[0;34m)\u001b[0m\u001b[0;34m:\u001b[0m\u001b[0;34m\u001b[0m\u001b[0m\n\u001b[0;32m-> 3808\u001b[0;31m                     \u001b[0mresults\u001b[0m\u001b[0;34m[\u001b[0m\u001b[0mi\u001b[0m\u001b[0;34m]\u001b[0m \u001b[0;34m=\u001b[0m \u001b[0mfunc\u001b[0m\u001b[0;34m(\u001b[0m\u001b[0mv\u001b[0m\u001b[0;34m)\u001b[0m\u001b[0;34m\u001b[0m\u001b[0m\n\u001b[0m\u001b[1;32m   3809\u001b[0m                     \u001b[0mkeys\u001b[0m\u001b[0;34m.\u001b[0m\u001b[0mappend\u001b[0m\u001b[0;34m(\u001b[0m\u001b[0mv\u001b[0m\u001b[0;34m.\u001b[0m\u001b[0mname\u001b[0m\u001b[0;34m)\u001b[0m\u001b[0;34m\u001b[0m\u001b[0m\n\u001b[1;32m   3810\u001b[0m             \u001b[0;32mexcept\u001b[0m \u001b[0mException\u001b[0m \u001b[0;32mas\u001b[0m \u001b[0me\u001b[0m\u001b[0;34m:\u001b[0m\u001b[0;34m\u001b[0m\u001b[0m\n",
      "\u001b[0;32m<ipython-input-20-61746200342a>\u001b[0m in \u001b[0;36m<lambda>\u001b[0;34m(row)\u001b[0m\n\u001b[0;32m----> 1\u001b[0;31m \u001b[0mbbdata_sal\u001b[0m\u001b[0;34m[\u001b[0m\u001b[0;34m'OBP_salary_ratio'\u001b[0m\u001b[0;34m]\u001b[0m \u001b[0;34m=\u001b[0m \u001b[0mbbdata_sal\u001b[0m\u001b[0;34m.\u001b[0m\u001b[0mapply\u001b[0m\u001b[0;34m(\u001b[0m\u001b[0;32mlambda\u001b[0m \u001b[0mrow\u001b[0m\u001b[0;34m:\u001b[0m \u001b[0mrow\u001b[0m\u001b[0;34m[\u001b[0m\u001b[0;34m'OBP'\u001b[0m\u001b[0;34m]\u001b[0m \u001b[0;34m/\u001b[0m \u001b[0mrow\u001b[0m\u001b[0;34m[\u001b[0m\u001b[0;34m'salary'\u001b[0m\u001b[0;34m]\u001b[0m\u001b[0;34m,\u001b[0m \u001b[0maxis\u001b[0m\u001b[0;34m=\u001b[0m\u001b[0;36m1\u001b[0m\u001b[0;34m)\u001b[0m\u001b[0;34m\u001b[0m\u001b[0m\n\u001b[0m",
      "\u001b[0;31mZeroDivisionError\u001b[0m: ('float division by zero', 'occurred at index 11611')"
     ]
    }
   ],
   "source": [
    "bbdata_sal['OBP_salary_ratio'] = bbdata_sal.apply(lambda row: row['OBP'] / row['salary'], axis=1)"
   ]
  },
  {
   "cell_type": "code",
   "execution_count": 21,
   "metadata": {
    "collapsed": false
   },
   "outputs": [
    {
     "data": {
      "text/plain": [
       "1400000"
      ]
     },
     "execution_count": 21,
     "metadata": {},
     "output_type": "execute_result"
    }
   ],
   "source": [
    "bbdata_sal.iloc[2367]['salary']"
   ]
  },
  {
   "cell_type": "code",
   "execution_count": null,
   "metadata": {
    "collapsed": true
   },
   "outputs": [],
   "source": []
  },
  {
   "cell_type": "code",
   "execution_count": null,
   "metadata": {
    "collapsed": true
   },
   "outputs": [],
   "source": []
  },
  {
   "cell_type": "code",
   "execution_count": null,
   "metadata": {
    "collapsed": true
   },
   "outputs": [],
   "source": []
  },
  {
   "cell_type": "code",
   "execution_count": null,
   "metadata": {
    "collapsed": false
   },
   "outputs": [],
   "source": [
    "appearances = pd.read_csv('data/Appearances.csv')\n",
    "appearances.columns"
   ]
  },
  {
   "cell_type": "code",
   "execution_count": null,
   "metadata": {
    "collapsed": false
   },
   "outputs": [],
   "source": [
    "appearances.pop('lgID')\n",
    "appearances.pop('teamID')\n",
    "appearances.head()"
   ]
  },
  {
   "cell_type": "code",
   "execution_count": null,
   "metadata": {
    "collapsed": false
   },
   "outputs": [],
   "source": [
    "player_info = pd.merge(bbdata_sal, appearances)\n",
    "player_info.head()"
   ]
  },
  {
   "cell_type": "code",
   "execution_count": null,
   "metadata": {
    "collapsed": false
   },
   "outputs": [],
   "source": []
  },
  {
   "cell_type": "code",
   "execution_count": null,
   "metadata": {
    "collapsed": false
   },
   "outputs": [],
   "source": [
    "# master_batting_appearances = pd.merge(master_batting, appearances)"
   ]
  },
  {
   "cell_type": "code",
   "execution_count": null,
   "metadata": {
    "collapsed": true
   },
   "outputs": [],
   "source": [
    "# bbdata = pd.merge(master_batting_appearances, salaries)"
   ]
  },
  {
   "cell_type": "code",
   "execution_count": null,
   "metadata": {
    "collapsed": false
   },
   "outputs": [],
   "source": [
    "# bbdata.head()"
   ]
  },
  {
   "cell_type": "code",
   "execution_count": null,
   "metadata": {
    "collapsed": true
   },
   "outputs": [],
   "source": []
  }
 ],
 "metadata": {
  "kernelspec": {
   "display_name": "Python 3",
   "language": "python",
   "name": "python3"
  }
 },
 "nbformat": 4,
 "nbformat_minor": 0
}
